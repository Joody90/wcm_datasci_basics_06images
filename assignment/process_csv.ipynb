{
 "cells": [
  {
   "cell_type": "markdown",
   "metadata": {},
   "source": [
    "## Assignment 6 - Unit Test Your Functions!\n",
    "\n",
    "Follow the instructions in the following notebook cell. You will be graded on:\n",
    "\n",
    "    - Whether your unit tests are passing\n",
    "    - The completion of this notebook"
   ]
  },
  {
   "cell_type": "markdown",
   "metadata": {},
   "source": [
    "## Part 1:"
   ]
  },
  {
   "cell_type": "code",
   "execution_count": 59,
   "metadata": {},
   "outputs": [
    {
     "name": "stdout",
     "output_type": "stream",
     "text": [
      "The autoreload extension is already loaded. To reload it, use:\n",
      "  %reload_ext autoreload\n"
     ]
    }
   ],
   "source": [
    "%load_ext autoreload\n",
    "%autoreload 2\n",
    "\n",
    "# import the stuff you need here: os, glob, natsort, numpy, matplotlib.pyplot, pandas:\n",
    "\n",
    "# example import, don't edit this.\n",
    "import sys\n",
    "sys.path.append('../')   # appending your project to python path\n",
    "\n",
    "# import the rest: \n",
    "import pandas as pd\n",
    "from importlib import reload\n",
    "import matplotlib.pyplot as plt \n",
    "import numpy as np"
   ]
  },
  {
   "cell_type": "markdown",
   "metadata": {},
   "source": [
    "#### Data I/O:\n",
    "\n",
    "First, in the `utils.py` file from the `functions` folder, recreate the function to get all the `.csv` data files:\n",
    "\n",
    "```python\n",
    "def get_files(path_pattern):\n",
    "    Given a `path_pattern` describing the path to all your data files, sorts the matching data files in alphanumerical order and returns a list with all file paths.\n",
    "\n",
    "    Input: \n",
    "        path_pattern (list): Path to all data files as described by a wildcard (*)\n",
    "    Returns:\n",
    "        files (list): Alphanumerical sorted list of all data files matching your path_pattern description.\n",
    "```\n",
    "\n",
    "Import it using relative imports and use it in the following cells to load your data. Remember `.`"
   ]
  },
  {
   "cell_type": "code",
   "execution_count": 60,
   "metadata": {},
   "outputs": [
    {
     "name": "stdout",
     "output_type": "stream",
     "text": [
      "There are 1 data csv files in the data folder\n"
     ]
    }
   ],
   "source": [
    "# first import your utility function:\n",
    "from functions.utils import get_files\n",
    "\n",
    "# Provide the wildcard (*) string pattern for your data files:\n",
    "data_pattern = \"data/*.csv\"\n",
    "\n",
    "data_pattern = \"data/_105_1_cyan.csv\"\n",
    "\n",
    "# Use your utilities function to read and return a list of sorted data files: \n",
    "data_files = get_files(data_pattern)\n",
    "print('There are {} data csv files in the data folder'.format(len(data_files)))\n",
    "\n",
    "\n"
   ]
  },
  {
   "cell_type": "markdown",
   "metadata": {},
   "source": [
    "### Create DataFrame:\n",
    "\n",
    "Use `pandas` to load your `.csv` file data and turn them into a `dataframe`, then display the first 5 entries of your `dataframe`:"
   ]
  },
  {
   "cell_type": "code",
   "execution_count": 61,
   "metadata": {},
   "outputs": [
    {
     "name": "stdout",
     "output_type": "stream",
     "text": [
      "Index([' ', 'Value'], dtype='object')\n"
     ]
    },
    {
     "data": {
      "text/html": [
       "<div>\n",
       "<style scoped>\n",
       "    .dataframe tbody tr th:only-of-type {\n",
       "        vertical-align: middle;\n",
       "    }\n",
       "\n",
       "    .dataframe tbody tr th {\n",
       "        vertical-align: top;\n",
       "    }\n",
       "\n",
       "    .dataframe thead th {\n",
       "        text-align: right;\n",
       "    }\n",
       "</style>\n",
       "<table border=\"1\" class=\"dataframe\">\n",
       "  <thead>\n",
       "    <tr style=\"text-align: right;\">\n",
       "      <th></th>\n",
       "      <th>0</th>\n",
       "      <th>1</th>\n",
       "    </tr>\n",
       "  </thead>\n",
       "  <tbody>\n",
       "    <tr>\n",
       "      <th>0</th>\n",
       "      <td>1</td>\n",
       "      <td>262.916</td>\n",
       "    </tr>\n",
       "    <tr>\n",
       "      <th>1</th>\n",
       "      <td>2</td>\n",
       "      <td>261.190</td>\n",
       "    </tr>\n",
       "    <tr>\n",
       "      <th>2</th>\n",
       "      <td>3</td>\n",
       "      <td>260.797</td>\n",
       "    </tr>\n",
       "    <tr>\n",
       "      <th>3</th>\n",
       "      <td>4</td>\n",
       "      <td>259.653</td>\n",
       "    </tr>\n",
       "    <tr>\n",
       "      <th>4</th>\n",
       "      <td>5</td>\n",
       "      <td>262.665</td>\n",
       "    </tr>\n",
       "  </tbody>\n",
       "</table>\n",
       "</div>"
      ],
      "text/plain": [
       "   0        1\n",
       "0  1  262.916\n",
       "1  2  261.190\n",
       "2  3  260.797\n",
       "3  4  259.653\n",
       "4  5  262.665"
      ]
     },
     "execution_count": 61,
     "metadata": {},
     "output_type": "execute_result"
    }
   ],
   "source": [
    "# read in your csv files, concatenate all the csv's one by one into columns, and replace empty entries with 0's\n",
    "dfs =  (pd.read_csv(f) for f in data_files)\n",
    "df = pd.concat (dfs)\n",
    "df \n",
    "df.fillna (0)\n",
    "print (df.columns) \n",
    "\n",
    "\n",
    "# assign column numbers to your data frame\n",
    "df.columns = [0, 1]\n",
    "\n",
    "# Show the first 5 entries of your dataframe:\n",
    "df [0: 5] \n",
    "\n"
   ]
  },
  {
   "cell_type": "markdown",
   "metadata": {},
   "source": [
    "### Realign our dataframes so we match the peak fluorescent signals:\n",
    "\n",
    "In `functions.utils.py`, add the following functions:\n",
    "\n",
    " - `find_middle()` - find the middle index of input data column and returns it\n",
    " - `realign_data()` - Center data around maximum or center of shortest column, padding with 0's, returns 1) a new dataframe with realigned columns and 2) the amount each column was shifted\n",
    "\n",
    "In `tests` folder, create a file named `test_utils.py` and add the following unit tests functions:\n",
    "\n",
    " - `test_find_middle_even()` - \n",
    " - `test_find_middle_odd()` - \n",
    " - `test_realign_max()` - \n",
    "\n",
    "Use your terminal to test these functions with `pytest assignment/tests`. Once all your tests are passing, import the functions and use them in the following cells:"
   ]
  },
  {
   "cell_type": "code",
   "execution_count": 62,
   "metadata": {},
   "outputs": [
    {
     "name": "stdout",
     "output_type": "stream",
     "text": [
      "['__builtins__', '__cached__', '__file__', '__loader__', '__name__', '__package__', '__spec__', 'find_middle', 'get_files', 'get_files1', 'glob', 'np', 'pd', 'realign_data']\n",
      "0\n",
      "My realigned data frame has shape (46, 2)\n"
     ]
    }
   ],
   "source": [
    "# from functions.utils import get_files1\n",
    "\n",
    "import functions.utils \n",
    "reload (functions.utils)\n",
    "print (dir(functions.utils))\n",
    "\n",
    "# realign your data around its maximum or center, whichever one you like better: \n",
    "df_aligned, shifts = functions.utils.realign_data(df)\n",
    "\n",
    "print('My realigned data frame has shape {}'.format(df_aligned.shape))"
   ]
  },
  {
   "cell_type": "markdown",
   "metadata": {},
   "source": [
    "### Normalize signal and visualize:\n",
    "\n",
    "Now we can normalize each column between 0-1 using `scikitlearn`'s `minmaxscale` function and visualize them. <em> In your plots, properly label all axis and colorbars with appropriate name description and units:"
   ]
  },
  {
   "cell_type": "code",
   "execution_count": 63,
   "metadata": {},
   "outputs": [],
   "source": [
    "# Normalize every column entry of your realigned dataframe:\n",
    "from sklearn.preprocessing import MinMaxScaler\n",
    "\n",
    "# pre-allocate an empty dataframe of 0's to be filled with normalized values, the index and column of this dataframe will be the same as the df_aligned dataframe:\n",
    "\n",
    "normalized_array = scaler.transform(df_aligned)\n",
    "#df_normalized = pd.DataFrame(normalized_array, columns = df_aligned.columns)\n",
    "\n",
    "df_normalized = pd.DataFrame(columns = df_aligned.columns)\n",
    "\n",
    "\n",
    "\n",
    "# fill in the `df_normalized` dataframe with normalized columns:\n",
    "for column, vals in df_aligned.iteritems():\n",
    "    # find the indices of the column that are not 0, only normalize those:\n",
    "    ind = df_aligned.index[df_aligned[column]!=0].tolist()\n",
    "    df_normalized[column] = vals[ind]\n",
    "    # Normalize of those:\n",
    "\n",
    "\n",
    "scaler = MinMaxScaler()\n",
    "scaler.fit(df_normalized)\n",
    "normalized_array = scaler.transform(df_normalized)\n",
    "\n",
    "\n",
    "df_normalized = pd.DataFrame(normalized_array, columns = df_aligned.columns).fillna(0)\n",
    "\n",
    "\n",
    "\n"
   ]
  },
  {
   "cell_type": "code",
   "execution_count": 64,
   "metadata": {},
   "outputs": [
    {
     "data": {
      "text/plain": [
       "[<matplotlib.lines.Line2D at 0x7fc016c3cdf0>,\n",
       " <matplotlib.lines.Line2D at 0x7fc016c3ce50>]"
      ]
     },
     "execution_count": 64,
     "metadata": {},
     "output_type": "execute_result"
    },
    {
     "data": {
      "image/png": "[encoded data removed]",
      "text/plain": [
       "<Figure size 432x288 with 1 Axes>"
      ]
     },
     "metadata": {
      "needs_background": "light"
     },
     "output_type": "display_data"
    }
   ],
   "source": [
    "# Use matplotlib to plot all the fluorescent signals:\n",
    "plt.plot(df_normalized)\n"
   ]
  },
  {
   "cell_type": "code",
   "execution_count": 65,
   "metadata": {},
   "outputs": [
    {
     "data": {
      "text/plain": [
       "[<matplotlib.lines.Line2D at 0x7fc016cc09d0>]"
      ]
     },
     "execution_count": 65,
     "metadata": {},
     "output_type": "execute_result"
    },
    {
     "data": {
      "image/png": "[encoded data removed]",
      "text/plain": [
       "<Figure size 432x288 with 1 Axes>"
      ]
     },
     "metadata": {
      "needs_background": "light"
     },
     "output_type": "display_data"
    }
   ],
   "source": [
    "# Now instead of all signals, plot the average signal:\n",
    "# use numpy to find the mean first:\n",
    "mean_signal = np.zeros(df_aligned.shape[0])\n",
    "for index, row in df_aligned.iterrows():\n",
    "    val = row[row != 0] \n",
    "    mean_signal[index] = np.mean(val)\n",
    "\n",
    "#plot\n",
    "plt.plot(mean_signal)"
   ]
  },
  {
   "cell_type": "code",
   "execution_count": 66,
   "metadata": {},
   "outputs": [
    {
     "data": {
      "image/png": "[encoded data removed]",
      "text/plain": [
       "<Figure size 432x288 with 2 Axes>"
      ]
     },
     "metadata": {
      "needs_background": "light"
     },
     "output_type": "display_data"
    }
   ],
   "source": [
    "# Finally visualize your aligned, and normalized fluorescent data in a heatmap:\n",
    "\n",
    "cntr = plt.contourf(df_normalized)\n",
    "cbar=plt.colorbar(cntr)\n",
    "\n",
    "plt.xlabel(\"Signal\")\n",
    "plt.ylabel(\"time\") \n",
    "\n",
    "cbar.set_label(\"fluorescent data\")\n",
    "\n"
   ]
  },
  {
   "cell_type": "markdown",
   "metadata": {},
   "source": [
    "## Part 2:\n",
    "\n",
    "Repeat the analysis, but instead of realigning the fluorescent signals to it's maximum peaks. Modify the `realign_data` function so that it requires a second input named `aligned`. In the function, if `align == \"max\"`, the code executes the max peak alignment like before.\n",
    "\n",
    "But if `align == \"center\"`, the function will find the mid point of `input_data[column ! = 0]`, the middle index of non-zero values. Then shifts the values according to the new criteria.\n",
    "\n",
    "After adding this feature to `functions.utils.realign_data`, write the appropriate test for this new feature in `tests.test_utils.py`, make sure this test is passing. Then implement the new alignment and revisualize the results, again making sure all axis and colorbars are properly labeled:"
   ]
  },
  {
   "cell_type": "code",
   "execution_count": 67,
   "metadata": {},
   "outputs": [
    {
     "name": "stdout",
     "output_type": "stream",
     "text": [
      "0\n"
     ]
    }
   ],
   "source": [
    "# apply your new realignment here\n",
    "\n",
    "df_aligned, shifts = functions.utils.realign_data(df, align = \"center\")\n",
    "\n",
    "df_normalized = pd.DataFrame(columns = df_aligned.columns)\n",
    "\n",
    "\n",
    "\n",
    "# fill in the `df_normalized` dataframe with normalized columns:\n",
    "for column, vals in df_aligned.iteritems():\n",
    "    # find the indices of the column that are not 0, only normalize those:\n",
    "    ind = df_aligned.index[df_aligned[column]!=0].tolist()\n",
    "    df_normalized[column] = vals[ind]\n",
    "    # Normalize of those:\n",
    "\n",
    "\n",
    "scaler = MinMaxScaler()\n",
    "scaler.fit(df_normalized)\n",
    "normalized_array = scaler.transform(df_normalized)\n",
    "\n",
    "\n",
    "df_normalized = pd.DataFrame(normalized_array, columns = df_aligned.columns).fillna(0) \n",
    "\n",
    "\n"
   ]
  },
  {
   "cell_type": "code",
   "execution_count": 68,
   "metadata": {},
   "outputs": [
    {
     "data": {
      "text/plain": [
       "[<matplotlib.lines.Line2D at 0x7fc0167762b0>,\n",
       " <matplotlib.lines.Line2D at 0x7fc016776d90>]"
      ]
     },
     "execution_count": 68,
     "metadata": {},
     "output_type": "execute_result"
    },
    {
     "data": {
      "image/png": "[encoded data removed]",
      "text/plain": [
       "<Figure size 432x288 with 1 Axes>"
      ]
     },
     "metadata": {
      "needs_background": "light"
     },
     "output_type": "display_data"
    }
   ],
   "source": [
    "# visualize all of the newly aligned data\n",
    "plt.plot(df_normalized)"
   ]
  },
  {
   "cell_type": "code",
   "execution_count": 69,
   "metadata": {},
   "outputs": [
    {
     "data": {
      "text/plain": [
       "[<matplotlib.lines.Line2D at 0x7fc015081e20>]"
      ]
     },
     "execution_count": 69,
     "metadata": {},
     "output_type": "execute_result"
    },
    {
     "data": {
      "image/png": "[encoded data removed]",
      "text/plain": [
       "<Figure size 432x288 with 1 Axes>"
      ]
     },
     "metadata": {
      "needs_background": "light"
     },
     "output_type": "display_data"
    }
   ],
   "source": [
    "# visualize the mean of the newly aligned data\n",
    "\n",
    "mean_signal = np.zeros(df_aligned.shape[0])\n",
    "for index, row in df_aligned.iterrows():\n",
    "    val = row[row != 0] \n",
    "    mean_signal[index] = np.mean(val)\n",
    "\n",
    "#plot\n",
    "plt.plot(mean_signal)"
   ]
  },
  {
   "cell_type": "code",
   "execution_count": 70,
   "metadata": {},
   "outputs": [
    {
     "data": {
      "image/png": "[encoded data removed]",
      "text/plain": [
       "<Figure size 432x288 with 2 Axes>"
      ]
     },
     "metadata": {
      "needs_background": "light"
     },
     "output_type": "display_data"
    }
   ],
   "source": [
    "# visualize the heatmap \n",
    "cntr = plt.contourf(df_normalized)\n",
    "cbar=plt.colorbar(cntr)\n",
    "\n",
    "plt.xlabel(\"Signal\")\n",
    "plt.ylabel(\"time\") \n",
    "\n",
    "cbar.set_label(\"fluorescent data\")"
   ]
  },
  {
   "cell_type": "markdown",
   "metadata": {},
   "source": [
    "Lastly, push your submission branch, the `pytests` should automatically be executed upon your push. Make sure these tests are passing! Again, add me as a collaborator, and a reviewer in your pull request that merges `submission` into `main`. "
   ]
  },
  {
   "cell_type": "code",
   "execution_count": null,
   "metadata": {},
   "outputs": [],
   "source": []
  }
 ],
 "metadata": {
  "kernelspec": {
   "display_name": "Python 3",
   "language": "python",
   "name": "python3"
  },
  "language_info": {
   "codemirror_mode": {
    "name": "ipython",
    "version": 3
   },
   "file_extension": ".py",
   "mimetype": "text/x-python",
   "name": "python",
   "nbconvert_exporter": "python",
   "pygments_lexer": "ipython3",
   "version": "3.9.2"
  }
 },
 "nbformat": 4,
 "nbformat_minor": 4
}
